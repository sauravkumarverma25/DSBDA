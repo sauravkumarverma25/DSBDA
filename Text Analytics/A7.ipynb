{
 "cells": [
  {
   "cell_type": "code",
   "execution_count": 3,
   "id": "e611a1ec",
   "metadata": {},
   "outputs": [],
   "source": [
    "import numpy as np # linear algebra\n",
    "import pandas as pd # data processing, CSV file I/O (e.g. pd.read_csv)\n",
    "import nltk\n",
    "from nltk.corpus import product_reviews_1"
   ]
  },
  {
   "cell_type": "code",
   "execution_count": 4,
   "id": "f462ef39",
   "metadata": {},
   "outputs": [
    {
     "name": "stderr",
     "output_type": "stream",
     "text": [
      "[nltk_data] Downloading package product_reviews_1 to\n",
      "[nltk_data]     C:\\Users\\adars\\AppData\\Roaming\\nltk_data...\n",
      "[nltk_data]   Unzipping corpora\\product_reviews_1.zip.\n"
     ]
    },
    {
     "data": {
      "text/plain": [
       "True"
      ]
     },
     "execution_count": 4,
     "metadata": {},
     "output_type": "execute_result"
    }
   ],
   "source": [
    "nltk.download('product_reviews_1')"
   ]
  },
  {
   "cell_type": "code",
   "execution_count": 5,
   "id": "5f04c24a",
   "metadata": {},
   "outputs": [
    {
     "data": {
      "text/plain": [
       "['Apex_AD2600_Progressive_scan_DVD player.txt',\n",
       " 'Canon_G3.txt',\n",
       " 'Creative_Labs_Nomad_Jukebox_Zen_Xtra_40GB.txt',\n",
       " 'Nikon_coolpix_4300.txt',\n",
       " 'Nokia_6610.txt',\n",
       " 'README.txt']"
      ]
     },
     "execution_count": 5,
     "metadata": {},
     "output_type": "execute_result"
    }
   ],
   "source": [
    "product_reviews_1.fileids()"
   ]
  },
  {
   "cell_type": "code",
   "execution_count": 6,
   "id": "0efa3915",
   "metadata": {},
   "outputs": [
    {
     "data": {
      "text/plain": [
       "'*****************************************************************************\\n* Annotated by: Minqing Hu and Bing Liu, 2004.\\n*\\t\\tDepartment of Computer Sicence\\n*               University of Illinois at Chicago              \\n*\\n* Product name: Apex AD2600 Progressive-scan DVD player\\n* Review Source: amazon.com\\n*\\n* See Readme.txt to find the meaning of each symbol. \\n*****************************************************************************\\n\\n[t] troubleshooting ad-2500 and ad-2600 no picture scrolling b/w . \\n##repost from january 13 , 2004 with a better fit title . \\n##does your apex dvd player only play dvd audio without video ? \\n##or does it play audio and video but scrolling in black and white ? \\n##before you try to return the player or was'"
      ]
     },
     "execution_count": 6,
     "metadata": {},
     "output_type": "execute_result"
    }
   ],
   "source": [
    "product_review_raw = product_reviews_1.raw('Apex_AD2600_Progressive_scan_DVD player.txt')\n",
    "product_review_raw[:750] "
   ]
  },
  {
   "cell_type": "code",
   "execution_count": 7,
   "id": "57f7fce9",
   "metadata": {},
   "outputs": [
    {
     "data": {
      "text/plain": [
       "[['repost', 'from', 'january', '13', ',', '2004', 'with', 'a', 'better', 'fit', 'title', '.'], ['does', 'your', 'apex', 'dvd', 'player', 'only', 'play', 'dvd', 'audio', 'without', 'video', '?'], ...]"
      ]
     },
     "execution_count": 7,
     "metadata": {},
     "output_type": "execute_result"
    }
   ],
   "source": [
    "product_review_sents = product_reviews_1.sents('Apex_AD2600_Progressive_scan_DVD player.txt')\n",
    "product_review_sents"
   ]
  },
  {
   "cell_type": "code",
   "execution_count": 8,
   "id": "245aa9fb",
   "metadata": {},
   "outputs": [
    {
     "data": {
      "text/plain": [
       "['repost', 'from', 'january', '13', ',', '2004', ...]"
      ]
     },
     "execution_count": 8,
     "metadata": {},
     "output_type": "execute_result"
    }
   ],
   "source": [
    "product_review_words = product_reviews_1.words('Apex_AD2600_Progressive_scan_DVD player.txt')\n",
    "product_review_words"
   ]
  },
  {
   "cell_type": "code",
   "execution_count": 9,
   "id": "443cc20a",
   "metadata": {},
   "outputs": [
    {
     "name": "stdout",
     "output_type": "stream",
     "text": [
      "['i', 'me', 'my', 'myself', 'we', 'our', 'ours', 'ourselves', 'you', \"you're\", \"you've\", \"you'll\", \"you'd\", 'your', 'yours', 'yourself', 'yourselves', 'he', 'him', 'his', 'himself', 'she', \"she's\", 'her', 'hers', 'herself', 'it', \"it's\", 'its', 'itself', 'they', 'them', 'their', 'theirs', 'themselves', 'what', 'which', 'who', 'whom', 'this', 'that', \"that'll\", 'these', 'those', 'am', 'is', 'are', 'was', 'were', 'be', 'been', 'being', 'have', 'has', 'had', 'having', 'do', 'does', 'did', 'doing', 'a', 'an', 'the', 'and', 'but', 'if', 'or', 'because', 'as', 'until', 'while', 'of', 'at', 'by', 'for', 'with', 'about', 'against', 'between', 'into', 'through', 'during', 'before', 'after', 'above', 'below', 'to', 'from', 'up', 'down', 'in', 'out', 'on', 'off', 'over', 'under', 'again', 'further', 'then', 'once', 'here', 'there', 'when', 'where', 'why', 'how', 'all', 'any', 'both', 'each', 'few', 'more', 'most', 'other', 'some', 'such', 'no', 'nor', 'not', 'only', 'own', 'same', 'so', 'than', 'too', 'very', 's', 't', 'can', 'will', 'just', 'don', \"don't\", 'should', \"should've\", 'now', 'd', 'll', 'm', 'o', 're', 've', 'y', 'ain', 'aren', \"aren't\", 'couldn', \"couldn't\", 'didn', \"didn't\", 'doesn', \"doesn't\", 'hadn', \"hadn't\", 'hasn', \"hasn't\", 'haven', \"haven't\", 'isn', \"isn't\", 'ma', 'mightn', \"mightn't\", 'mustn', \"mustn't\", 'needn', \"needn't\", 'shan', \"shan't\", 'shouldn', \"shouldn't\", 'wasn', \"wasn't\", 'weren', \"weren't\", 'won', \"won't\", 'wouldn', \"wouldn't\"]\n"
     ]
    },
    {
     "name": "stderr",
     "output_type": "stream",
     "text": [
      "[nltk_data] Downloading package stopwords to\n",
      "[nltk_data]     C:\\Users\\adars\\AppData\\Roaming\\nltk_data...\n",
      "[nltk_data]   Unzipping corpora\\stopwords.zip.\n"
     ]
    }
   ],
   "source": [
    "from nltk.corpus import stopwords\n",
    "nltk.download('stopwords')\n",
    "stoplist = stopwords.words('english')\n",
    "print(stoplist)"
   ]
  },
  {
   "cell_type": "code",
   "execution_count": 10,
   "id": "958c27b6",
   "metadata": {},
   "outputs": [
    {
     "name": "stdout",
     "output_type": "stream",
     "text": [
      "word length with stopwords 12593\n",
      "word length without stopwords 7190\n"
     ]
    }
   ],
   "source": [
    "print(f'word length with stopwords {len(product_review_words)}')\n",
    "product_review_wo_stopwords = [word for word in product_review_words if not word in stoplist]\n",
    "print(f'word length without stopwords {len(product_review_wo_stopwords)}')"
   ]
  },
  {
   "cell_type": "code",
   "execution_count": 11,
   "id": "393a35ff",
   "metadata": {},
   "outputs": [
    {
     "name": "stderr",
     "output_type": "stream",
     "text": [
      "[nltk_data] Downloading package punkt to\n",
      "[nltk_data]     C:\\Users\\adars\\AppData\\Roaming\\nltk_data...\n"
     ]
    },
    {
     "name": "stdout",
     "output_type": "stream",
     "text": [
      "Word Tokens - \n",
      "['te hours calling apex tech support , or run the player over with your car , try these simple troubleshooting ideas first .', '##no picture : \\n##hopefully you still have the remote control .', '##if you tossed it out the window , you need to fetch it .', '##using the remote control , press the i/p button located on the bottom right corner of the remote .', '##the i/p button switches the tv display between interlace and progressive .', '##if this doesnt bring back the picture , try pressing this button with']\n",
      "\n",
      "\n",
      "\n",
      "Sentence Tokens - \n",
      "['te', 'hours', 'calling', 'apex', 'tech', 'support', ',', 'or', 'run', 'the', 'player', 'over', 'with', 'your', 'car', ',', 'try', 'these', 'simple', 'troubleshooting', 'ideas', 'first', '.', '#', '#', 'no', 'picture', ':', '#', '#', 'hopefully', 'you', 'still', 'have', 'the', 'remote', 'control', '.', '#', '#', 'if', 'you', 'tossed', 'it', 'out', 'the', 'window', ',', 'you', 'need', 'to', 'fetch', 'it', '.', '#', '#', 'using', 'the', 'remote', 'control', ',', 'press', 'the', 'i/p', 'button', 'located', 'on', 'the', 'bottom', 'right', 'corner', 'of', 'the', 'remote', '.', '#', '#', 'the', 'i/p', 'button', 'switches', 'the', 'tv', 'display', 'between', 'interlace', 'and', 'progressive', '.', '#', '#', 'if', 'this', 'doesnt', 'bring', 'back', 'the', 'picture', ',', 'try', 'pressing', 'this', 'button', 'with']\n"
     ]
    },
    {
     "name": "stderr",
     "output_type": "stream",
     "text": [
      "[nltk_data]   Unzipping tokenizers\\punkt.zip.\n"
     ]
    }
   ],
   "source": [
    "from nltk.tokenize import sent_tokenize, word_tokenize\n",
    "nltk.download('punkt')\n",
    "  \n",
    "print(f'Word Tokens - \\n{sent_tokenize(product_review_raw[750:1250])}\\n\\n\\n')\n",
    "print(f'Sentence Tokens - \\n{word_tokenize(product_review_raw[750:1250])}')"
   ]
  },
  {
   "cell_type": "code",
   "execution_count": 17,
   "id": "02e1c1e5",
   "metadata": {},
   "outputs": [
    {
     "name": "stderr",
     "output_type": "stream",
     "text": [
      "[nltk_data] Downloading package omw-1.4 to\n",
      "[nltk_data]     C:\\Users\\adars\\AppData\\Roaming\\nltk_data...\n",
      "[nltk_data] Downloading package wordnet to\n",
      "[nltk_data]     C:\\Users\\adars\\AppData\\Roaming\\nltk_data...\n",
      "[nltk_data]   Package wordnet is already up-to-date!\n"
     ]
    },
    {
     "name": "stdout",
     "output_type": "stream",
     "text": [
      "Actual Word - A\n",
      "Stem - a\n",
      "Lemma - A\n",
      "\n",
      "Actual Word - middle-aged\n",
      "Stem - middle-ag\n",
      "Lemma - middle-aged\n",
      "\n",
      "Actual Word - woman\n",
      "Stem - woman\n",
      "Lemma - woman\n",
      "\n",
      "Actual Word - entered\n",
      "Stem - enter\n",
      "Lemma - entered\n",
      "\n",
      "Actual Word - the\n",
      "Stem - the\n",
      "Lemma - the\n",
      "\n",
      "Actual Word - room\n",
      "Stem - room\n",
      "Lemma - room\n",
      "\n",
      "Actual Word - ,\n",
      "Stem - ,\n",
      "Lemma - ,\n",
      "\n",
      "Actual Word - her\n",
      "Stem - her\n",
      "Lemma - her\n",
      "\n",
      "Actual Word - hands\n",
      "Stem - hand\n",
      "Lemma - hand\n",
      "\n",
      "Actual Word - full\n",
      "Stem - full\n",
      "Lemma - full\n",
      "\n",
      "Actual Word - of\n",
      "Stem - of\n",
      "Lemma - of\n",
      "\n",
      "Actual Word - hamburger\n",
      "Stem - hamburg\n",
      "Lemma - hamburger\n",
      "\n",
      "Actual Word - meat\n",
      "Stem - meat\n",
      "Lemma - meat\n",
      "\n",
      "Actual Word - as\n",
      "Stem - as\n",
      "Lemma - a\n",
      "\n",
      "Actual Word - she\n",
      "Stem - she\n",
      "Lemma - she\n",
      "\n",
      "Actual Word - formed\n",
      "Stem - form\n",
      "Lemma - formed\n",
      "\n",
      "Actual Word - a\n",
      "Stem - a\n",
      "Lemma - a\n",
      "\n",
      "Actual Word - patty\n",
      "Stem - patti\n",
      "Lemma - patty\n",
      "\n"
     ]
    }
   ],
   "source": [
    "import nltk\n",
    "nltk.download('omw-1.4')\n",
    "from nltk.stem import WordNetLemmatizer\n",
    "from nltk.stem.porter import PorterStemmer\n",
    "nltk.download('wordnet')\n",
    "sample_sentence = 'A middle-aged woman entered the room, her hands full of hamburger meat as she formed a patty'\n",
    "porter_stemmer = PorterStemmer()\n",
    "word_lemmatizer = WordNetLemmatizer()\n",
    "\n",
    "for w in word_tokenize(sample_sentence):\n",
    "    print(f'Actual Word - {w}')\n",
    "    print(f'Stem - {porter_stemmer.stem(w)}')\n",
    "    print(f'Lemma - {word_lemmatizer.lemmatize(w)}\\n')"
   ]
  },
  {
   "cell_type": "code",
   "execution_count": 14,
   "id": "71b374c4",
   "metadata": {},
   "outputs": [
    {
     "name": "stderr",
     "output_type": "stream",
     "text": [
      "[nltk_data] Downloading package averaged_perceptron_tagger to\n",
      "[nltk_data]     C:\\Users\\adars\\AppData\\Roaming\\nltk_data...\n",
      "[nltk_data]   Unzipping taggers\\averaged_perceptron_tagger.zip.\n"
     ]
    },
    {
     "data": {
      "text/plain": [
       "[('A', 'DT'),\n",
       " ('middle-aged', 'JJ'),\n",
       " ('woman', 'NN'),\n",
       " ('entered', 'VBD'),\n",
       " ('the', 'DT'),\n",
       " ('room', 'NN'),\n",
       " (',', ','),\n",
       " ('her', 'PRP$'),\n",
       " ('hands', 'NNS'),\n",
       " ('full', 'JJ'),\n",
       " ('of', 'IN'),\n",
       " ('hamburger', 'NN'),\n",
       " ('meat', 'NN'),\n",
       " ('as', 'IN'),\n",
       " ('she', 'PRP'),\n",
       " ('formed', 'VBD'),\n",
       " ('a', 'DT'),\n",
       " ('patty', 'NN')]"
      ]
     },
     "execution_count": 14,
     "metadata": {},
     "output_type": "execute_result"
    }
   ],
   "source": [
    "nltk.download('averaged_perceptron_tagger')\n",
    "sample_sentence_words = word_tokenize(sample_sentence)\n",
    "nltk.pos_tag(sample_sentence_words)"
   ]
  },
  {
   "cell_type": "code",
   "execution_count": 15,
   "id": "82e4cc0e",
   "metadata": {},
   "outputs": [
    {
     "name": "stdout",
     "output_type": "stream",
     "text": [
      ":: vector vocabulary - {'must': 5, 'have': 4, 'subject': 8, 'and': 0, 'verb': 10, 'express': 3, 'complete': 2, 'thought': 9, 'only': 7, 'one': 6, 'clause': 1}\n",
      "\n",
      ":: vector shape - (3, 11)\n",
      "\n",
      ":: vector list - [[0.50461134 0.         0.         0.         0.38376993 0.29803159\n",
      "  0.         0.         0.50461134 0.         0.50461134]\n",
      " [0.         0.         0.54645401 0.54645401 0.         0.32274454\n",
      "  0.         0.         0.         0.54645401 0.        ]\n",
      " [0.         0.50461134 0.         0.         0.38376993 0.29803159\n",
      "  0.50461134 0.50461134 0.         0.         0.        ]]\n"
     ]
    }
   ],
   "source": [
    "from sklearn.feature_extraction.text import TfidfVectorizer\n",
    "# initialize sample document\n",
    "sample_documents = ['Must have a subject and a verb','Must express a complete thought','Must only have one clause']\n",
    "# instantiate\n",
    "vectorizer = TfidfVectorizer()\n",
    "vectorizer.fit(sample_documents)\n",
    "# summarize\n",
    "print(f':: vector vocabulary - {vectorizer.vocabulary_}\\n')\n",
    "# encode document\n",
    "vector = vectorizer.transform(sample_documents)\n",
    "# summarize encoded vector\n",
    "print(f':: vector shape - {vector.shape}\\n')\n",
    "print(f':: vector list - {vector.toarray()}')"
   ]
  }
 ],
 "metadata": {
  "kernelspec": {
   "display_name": "Python 3 (ipykernel)",
   "language": "python",
   "name": "python3"
  },
  "language_info": {
   "codemirror_mode": {
    "name": "ipython",
    "version": 3
   },
   "file_extension": ".py",
   "mimetype": "text/x-python",
   "name": "python",
   "nbconvert_exporter": "python",
   "pygments_lexer": "ipython3",
   "version": "3.10.9"
  }
 },
 "nbformat": 4,
 "nbformat_minor": 5
}
